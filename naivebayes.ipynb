{
 "cells": [
  {
   "cell_type": "code",
   "execution_count": 4,
   "id": "ec9065cb",
   "metadata": {},
   "outputs": [],
   "source": [
    "from sklearn.model_selection import train_test_split"
   ]
  },
  {
   "cell_type": "code",
   "execution_count": 43,
   "id": "a3c008ab",
   "metadata": {},
   "outputs": [],
   "source": [
    "import pandas as pd\n",
    "data=pd.read_csv(\"play_tennis.csv\")\n",
    "inp_data=data.iloc[:,1:5:1]\n",
    "output=data.iloc[:,-1]"
   ]
  },
  {
   "cell_type": "code",
   "execution_count": 82,
   "id": "de616f61",
   "metadata": {},
   "outputs": [],
   "source": [
    "inp_train,inp_test,output_train,output_test=train_test_split(inp_data,output,test_size=0.30,random_state=25)"
   ]
  },
  {
   "cell_type": "code",
   "execution_count": 71,
   "id": "68b59564",
   "metadata": {},
   "outputs": [],
   "source": [
    "play_yes=data[data[\"play\"]=='Yes']\n",
    "yes_prob=len(play_yes)/len(data)\n",
    "play_no=data[data[\"play\"]=='No']\n",
    "no_prob=len(play_no)/len(data)"
   ]
  },
  {
   "cell_type": "code",
   "execution_count": 38,
   "id": "d010f1be",
   "metadata": {},
   "outputs": [
    {
     "data": {
      "text/plain": [
       "(array(['Sunny', 'Overcast', 'Rain'], dtype=object),\n",
       " array(['Hot', 'Mild', 'Cool'], dtype=object),\n",
       " array(['High', 'Normal'], dtype=object),\n",
       " array(['Weak', 'Strong'], dtype=object))"
      ]
     },
     "execution_count": 38,
     "metadata": {},
     "output_type": "execute_result"
    }
   ],
   "source": [
    "out_uniq=data[\"outlook\"].unique()\n",
    "temp_uniq=data[\"temp\"].unique()\n",
    "humd_uniq=data[\"humidity\"].unique()\n",
    "wind_uniq=data[\"wind\"].unique()\n",
    "out_uniq,temp_uniq,humd_uniq,wind_uniq"
   ]
  },
  {
   "cell_type": "code",
   "execution_count": 22,
   "id": "db395ebd",
   "metadata": {},
   "outputs": [
    {
     "data": {
      "text/plain": [
       "([0.2222222222222222, 0.4444444444444444, 0.3333333333333333], [0.6, 0.0, 0.4])"
      ]
     },
     "execution_count": 22,
     "metadata": {},
     "output_type": "execute_result"
    }
   ],
   "source": [
    "out_yes_prob,out_no_prob=[],[]\n",
    "for i in out_uniq:\n",
    "    out_yes_prob.append(len(play_yes[play_yes[\"outlook\"]==i])/len(play_yes))\n",
    "    out_no_prob.append(len(play_no[play_no[\"outlook\"]==i])/len(play_no))\n",
    "out_yes_prob,out_no_prob"
   ]
  },
  {
   "cell_type": "code",
   "execution_count": 24,
   "id": "f185975f",
   "metadata": {},
   "outputs": [
    {
     "data": {
      "text/plain": [
       "([0.2222222222222222, 0.4444444444444444, 0.3333333333333333], [0.4, 0.4, 0.2])"
      ]
     },
     "execution_count": 24,
     "metadata": {},
     "output_type": "execute_result"
    }
   ],
   "source": [
    "temp_yes_prob,temp_no_prob=[],[]\n",
    "for i in temp_uniq:\n",
    "    temp_yes_prob.append(len(play_yes[play_yes[\"temp\"]==i])/len(play_yes))\n",
    "    temp_no_prob.append(len(play_no[play_no[\"temp\"]==i])/len(play_no))\n",
    "temp_yes_prob,temp_no_prob"
   ]
  },
  {
   "cell_type": "code",
   "execution_count": 28,
   "id": "70420d66",
   "metadata": {},
   "outputs": [
    {
     "data": {
      "text/plain": [
       "([0.3333333333333333, 0.6666666666666666], [0.8, 0.2])"
      ]
     },
     "execution_count": 28,
     "metadata": {},
     "output_type": "execute_result"
    }
   ],
   "source": [
    "humd_yes_prob,humd_no_prob=[],[]\n",
    "for i in humd_uniq:\n",
    "    humd_yes_prob.append(len(play_yes[play_yes[\"humidity\"]==i])/len(play_yes))\n",
    "    humd_no_prob.append(len(play_no[play_no[\"humidity\"]==i])/len(play_no))\n",
    "humd_yes_prob,humd_no_prob"
   ]
  },
  {
   "cell_type": "code",
   "execution_count": 33,
   "id": "6215777d",
   "metadata": {},
   "outputs": [
    {
     "data": {
      "text/plain": [
       "([0.6666666666666666, 0.3333333333333333], [0.4, 0.6])"
      ]
     },
     "execution_count": 33,
     "metadata": {},
     "output_type": "execute_result"
    }
   ],
   "source": [
    "wind_yes_prob,wind_no_prob=[],[]\n",
    "for i in wind_uniq:\n",
    "    wind_yes_prob.append(len(play_yes[play_yes[\"wind\"]==i])/len(play_yes))\n",
    "    wind_no_prob.append(len(play_no[play_no[\"wind\"]==i])/len(play_no))\n",
    "wind_yes_prob,wind_no_prob"
   ]
  },
  {
   "cell_type": "code",
   "execution_count": 55,
   "id": "84888bcf",
   "metadata": {},
   "outputs": [
    {
     "data": {
      "text/plain": [
       "{'p(sunny/yes)': 0.2222222222222222,\n",
       " 'p(overcast/yes)': 0.4444444444444444,\n",
       " 'p(rain/yes)': 0.3333333333333333,\n",
       " 'p(sunny/no)': 0.6,\n",
       " 'p(overcast/no)': 0.0,\n",
       " 'p(rain/no)': 0.4}"
      ]
     },
     "execution_count": 55,
     "metadata": {},
     "output_type": "execute_result"
    }
   ],
   "source": [
    "out_dict={'p(sunny/yes)':out_yes_prob[0],'p(overcast/yes)':out_yes_prob[1],'p(rain/yes)':out_yes_prob[2],'p(sunny/no)':out_no_prob[0],'p(overcast/no)':out_no_prob[1],'p(rain/no)':out_no_prob[2]}\n",
    "out_dict"
   ]
  },
  {
   "cell_type": "code",
   "execution_count": 35,
   "id": "08030f99",
   "metadata": {},
   "outputs": [
    {
     "data": {
      "text/plain": [
       "{'p(hot/yes)': 0.2222222222222222,\n",
       " 'p(mild/yes)': 0.4444444444444444,\n",
       " 'p(cool/yes)': 0.3333333333333333,\n",
       " 'p(hot/no)': 0.4,\n",
       " 'p(mild/no)': 0.4,\n",
       " 'p(cool/no)': 0.2}"
      ]
     },
     "execution_count": 35,
     "metadata": {},
     "output_type": "execute_result"
    }
   ],
   "source": [
    "temp_dict={'p(hot/yes)':temp_yes_prob[0],'p(mild/yes)':temp_yes_prob[1],'p(cool/yes)':temp_yes_prob[2],'p(hot/no)':temp_no_prob[0],'p(mild/no)':temp_no_prob[1],'p(cool/no)':temp_no_prob[2]}\n",
    "temp_dict"
   ]
  },
  {
   "cell_type": "code",
   "execution_count": 36,
   "id": "f4c21174",
   "metadata": {},
   "outputs": [
    {
     "data": {
      "text/plain": [
       "{'p(high/yes)': 0.3333333333333333,\n",
       " 'p(normal/yes)': 0.6666666666666666,\n",
       " 'p(high/no)': 0.8,\n",
       " 'p(normal/no)': 0.2}"
      ]
     },
     "execution_count": 36,
     "metadata": {},
     "output_type": "execute_result"
    }
   ],
   "source": [
    "humd_dict={'p(high/yes)':humd_yes_prob[0],'p(normal/yes)':humd_yes_prob[1],'p(high/no)':humd_no_prob[0],'p(normal/no)':humd_no_prob[1]}\n",
    "humd_dict"
   ]
  },
  {
   "cell_type": "code",
   "execution_count": 37,
   "id": "19711fdc",
   "metadata": {},
   "outputs": [
    {
     "data": {
      "text/plain": [
       "{'p(weak/yes)': 0.6666666666666666,\n",
       " 'p(strong/yes)': 0.3333333333333333,\n",
       " 'p(weak/no)': 0.4,\n",
       " 'p(strong/no)': 0.6}"
      ]
     },
     "execution_count": 37,
     "metadata": {},
     "output_type": "execute_result"
    }
   ],
   "source": [
    "wind_dict={'p(weak/yes)':wind_yes_prob[0],'p(strong/yes)':wind_yes_prob[1],'p(weak/no)':wind_no_prob[0],'p(strong/no)':wind_no_prob[1]}\n",
    "wind_dict"
   ]
  },
  {
   "cell_type": "code",
   "execution_count": 83,
   "id": "23776e55",
   "metadata": {},
   "outputs": [
    {
     "data": {
      "text/html": [
       "<div>\n",
       "<style scoped>\n",
       "    .dataframe tbody tr th:only-of-type {\n",
       "        vertical-align: middle;\n",
       "    }\n",
       "\n",
       "    .dataframe tbody tr th {\n",
       "        vertical-align: top;\n",
       "    }\n",
       "\n",
       "    .dataframe thead th {\n",
       "        text-align: right;\n",
       "    }\n",
       "</style>\n",
       "<table border=\"1\" class=\"dataframe\">\n",
       "  <thead>\n",
       "    <tr style=\"text-align: right;\">\n",
       "      <th></th>\n",
       "      <th>outlook</th>\n",
       "      <th>temp</th>\n",
       "      <th>humidity</th>\n",
       "      <th>wind</th>\n",
       "    </tr>\n",
       "  </thead>\n",
       "  <tbody>\n",
       "    <tr>\n",
       "      <th>0</th>\n",
       "      <td>Sunny</td>\n",
       "      <td>Hot</td>\n",
       "      <td>High</td>\n",
       "      <td>Weak</td>\n",
       "    </tr>\n",
       "    <tr>\n",
       "      <th>9</th>\n",
       "      <td>Rain</td>\n",
       "      <td>Mild</td>\n",
       "      <td>Normal</td>\n",
       "      <td>Weak</td>\n",
       "    </tr>\n",
       "    <tr>\n",
       "      <th>3</th>\n",
       "      <td>Rain</td>\n",
       "      <td>Mild</td>\n",
       "      <td>High</td>\n",
       "      <td>Weak</td>\n",
       "    </tr>\n",
       "    <tr>\n",
       "      <th>5</th>\n",
       "      <td>Rain</td>\n",
       "      <td>Cool</td>\n",
       "      <td>Normal</td>\n",
       "      <td>Strong</td>\n",
       "    </tr>\n",
       "    <tr>\n",
       "      <th>11</th>\n",
       "      <td>Overcast</td>\n",
       "      <td>Mild</td>\n",
       "      <td>High</td>\n",
       "      <td>Strong</td>\n",
       "    </tr>\n",
       "  </tbody>\n",
       "</table>\n",
       "</div>"
      ],
      "text/plain": [
       "     outlook  temp humidity    wind\n",
       "0      Sunny   Hot     High    Weak\n",
       "9       Rain  Mild   Normal    Weak\n",
       "3       Rain  Mild     High    Weak\n",
       "5       Rain  Cool   Normal  Strong\n",
       "11  Overcast  Mild     High  Strong"
      ]
     },
     "execution_count": 83,
     "metadata": {},
     "output_type": "execute_result"
    }
   ],
   "source": [
    "inp_test"
   ]
  },
  {
   "cell_type": "code",
   "execution_count": 52,
   "id": "b349099e",
   "metadata": {},
   "outputs": [
    {
     "data": {
      "text/plain": [
       "0     No\n",
       "9    Yes\n",
       "3    Yes\n",
       "Name: play, dtype: object"
      ]
     },
     "execution_count": 52,
     "metadata": {},
     "output_type": "execute_result"
    }
   ],
   "source": [
    "output_test"
   ]
  },
  {
   "cell_type": "code",
   "execution_count": 84,
   "id": "89249a4e",
   "metadata": {},
   "outputs": [
    {
     "data": {
      "text/plain": [
       "['No']"
      ]
     },
     "execution_count": 84,
     "metadata": {},
     "output_type": "execute_result"
    }
   ],
   "source": [
    "out_pred=[]\n",
    "res1_yes=out_dict['p(sunny/yes)']*temp_dict['p(hot/yes)']*humd_dict['p(high/yes)']*wind_dict['p(weak/yes)']*yes_prob\n",
    "res1_no=out_dict['p(sunny/no)']*temp_dict['p(hot/no)']*humd_dict['p(high/no)']*wind_dict['p(weak/no)']*no_prob\n",
    "if res1_yes>res1_no:\n",
    "    out_pred.append('Yes')\n",
    "else:\n",
    "    out_pred.append('No')\n",
    "out_pred"
   ]
  },
  {
   "cell_type": "code",
   "execution_count": 85,
   "id": "ffc268cc",
   "metadata": {},
   "outputs": [
    {
     "data": {
      "text/plain": [
       "['No', 'Yes']"
      ]
     },
     "execution_count": 85,
     "metadata": {},
     "output_type": "execute_result"
    }
   ],
   "source": [
    "res2_yes=out_dict['p(rain/yes)']*temp_dict['p(mild/yes)']*humd_dict['p(normal/yes)']*wind_dict['p(weak/yes)']*yes_prob\n",
    "res2_no=out_dict['p(rain/no)']*temp_dict['p(mild/no)']*humd_dict['p(normal/no)']*wind_dict['p(weak/no)']*no_prob\n",
    "if res2_yes>res2_no:\n",
    "    out_pred.append('Yes')\n",
    "else:\n",
    "    out_pred.append('No')\n",
    "out_pred"
   ]
  },
  {
   "cell_type": "code",
   "execution_count": 86,
   "id": "4211b07d",
   "metadata": {},
   "outputs": [],
   "source": [
    "res3_yes=out_dict['p(rain/yes)']*temp_dict['p(mild/yes)']*humd_dict['p(high/yes)']*wind_dict['p(weak/yes)']*yes_prob\n",
    "res3_no=out_dict['p(rain/no)']*temp_dict['p(mild/no)']*humd_dict['p(high/no)']*wind_dict['p(weak/no)']*no_prob\n",
    "if res3_yes>res3_no:\n",
    "    out_pred.append('Yes')\n",
    "else:\n",
    "    out_pred.append('No')"
   ]
  },
  {
   "cell_type": "code",
   "execution_count": 87,
   "id": "28ccf5f6",
   "metadata": {},
   "outputs": [],
   "source": [
    "res4_yes=out_dict['p(rain/yes)']*temp_dict['p(cool/yes)']*humd_dict['p(normal/yes)']*wind_dict['p(strong/yes)']*yes_prob\n",
    "res4_no=out_dict['p(rain/no)']*temp_dict['p(cool/no)']*humd_dict['p(normal/no)']*wind_dict['p(strong/no)']*no_prob\n",
    "if res4_yes>res4_no:\n",
    "    out_pred.append('Yes')\n",
    "else:\n",
    "    out_pred.append('No')"
   ]
  },
  {
   "cell_type": "code",
   "execution_count": 88,
   "id": "cf698d77",
   "metadata": {},
   "outputs": [],
   "source": [
    "res5_yes=out_dict['p(overcast/yes)']*temp_dict['p(mild/yes)']*humd_dict['p(high/yes)']*wind_dict['p(strong/yes)']*yes_prob\n",
    "res5_no=out_dict['p(overcast/no)']*temp_dict['p(mild/no)']*humd_dict['p(high/no)']*wind_dict['p(strong/no)']*no_prob\n",
    "if res5_yes>res5_no:\n",
    "    out_pred.append('Yes')\n",
    "else:\n",
    "    out_pred.append('No')"
   ]
  },
  {
   "cell_type": "code",
   "execution_count": 89,
   "id": "41f2c672",
   "metadata": {},
   "outputs": [
    {
     "data": {
      "text/plain": [
       "['No', 'Yes', 'Yes', 'Yes', 'Yes']"
      ]
     },
     "execution_count": 89,
     "metadata": {},
     "output_type": "execute_result"
    }
   ],
   "source": [
    "out_pred"
   ]
  },
  {
   "cell_type": "code",
   "execution_count": 90,
   "id": "a076734e",
   "metadata": {},
   "outputs": [
    {
     "data": {
      "text/plain": [
       "0      No\n",
       "9     Yes\n",
       "3     Yes\n",
       "5      No\n",
       "11    Yes\n",
       "Name: play, dtype: object"
      ]
     },
     "execution_count": 90,
     "metadata": {},
     "output_type": "execute_result"
    }
   ],
   "source": [
    "output_test"
   ]
  },
  {
   "cell_type": "code",
   "execution_count": 76,
   "id": "a041dc1e",
   "metadata": {},
   "outputs": [
    {
     "name": "stdout",
     "output_type": "stream",
     "text": [
      "Accuracy is: 80.0\n"
     ]
    }
   ],
   "source": [
    "cnt=0\n",
    "for i in range(len(out_pred)):\n",
    "    if out_pred[i]==output_test.iloc[i]:\n",
    "        cnt+=1\n",
    "print('Accuracy is:',((cnt)/len(out_pred))*100)"
   ]
  },
  {
   "cell_type": "code",
   "execution_count": null,
   "id": "b8ebe274",
   "metadata": {},
   "outputs": [],
   "source": []
  }
 ],
 "metadata": {
  "kernelspec": {
   "display_name": "Python 3 (ipykernel)",
   "language": "python",
   "name": "python3"
  },
  "language_info": {
   "codemirror_mode": {
    "name": "ipython",
    "version": 3
   },
   "file_extension": ".py",
   "mimetype": "text/x-python",
   "name": "python",
   "nbconvert_exporter": "python",
   "pygments_lexer": "ipython3",
   "version": "3.11.3"
  }
 },
 "nbformat": 4,
 "nbformat_minor": 5
}
